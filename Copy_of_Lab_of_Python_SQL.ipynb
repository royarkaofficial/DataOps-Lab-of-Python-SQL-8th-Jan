{
  "nbformat": 4,
  "nbformat_minor": 0,
  "metadata": {
    "colab": {
      "provenance": [],
      "include_colab_link": true
    },
    "kernelspec": {
      "name": "python3",
      "display_name": "Python 3"
    },
    "language_info": {
      "name": "python"
    }
  },
  "cells": [
    {
      "cell_type": "markdown",
      "metadata": {
        "id": "view-in-github",
        "colab_type": "text"
      },
      "source": [
        "<a href=\"https://colab.research.google.com/github/royarkaofficial/DataOps-Lab-of-Python-SQL-8th-Jan/blob/main/Copy_of_Lab_of_Python_SQL.ipynb\" target=\"_parent\"><img src=\"https://colab.research.google.com/assets/colab-badge.svg\" alt=\"Open In Colab\"/></a>"
      ]
    },
    {
      "cell_type": "markdown",
      "source": [
        "Connecting Python to a SQL DB and query the data"
      ],
      "metadata": {
        "id": "CGvIUSA2NxnF"
      }
    },
    {
      "cell_type": "markdown",
      "source": [
        "Step 1 : Install required libraries\n",
        "If your using MYSQL , PostgreSQL ,you need to use thier respective connectors\n",
        "(mysql-connector-python or psycopg2)\n",
        "For this example : SQLlite3 (doesn't require additional installation  "
      ],
      "metadata": {
        "id": "ZCnJvaFmN7c7"
      }
    },
    {
      "cell_type": "code",
      "execution_count": 1,
      "metadata": {
        "colab": {
          "base_uri": "https://localhost:8080/"
        },
        "id": "9Zzkm4UINq5W",
        "outputId": "e7559b06-8890-486b-c3c8-151964432acd"
      },
      "outputs": [
        {
          "output_type": "stream",
          "name": "stdout",
          "text": [
            "Collecting mysql-connector-python\n",
            "  Downloading mysql_connector_python-9.1.0-cp310-cp310-manylinux_2_28_x86_64.whl.metadata (6.0 kB)\n",
            "Downloading mysql_connector_python-9.1.0-cp310-cp310-manylinux_2_28_x86_64.whl (34.4 MB)\n",
            "\u001b[2K   \u001b[90m━━━━━━━━━━━━━━━━━━━━━━━━━━━━━━━━━━━━━━━━\u001b[0m \u001b[32m34.4/34.4 MB\u001b[0m \u001b[31m21.6 MB/s\u001b[0m eta \u001b[36m0:00:00\u001b[0m\n",
            "\u001b[?25hInstalling collected packages: mysql-connector-python\n",
            "Successfully installed mysql-connector-python-9.1.0\n"
          ]
        }
      ],
      "source": [
        "#For SQL\n",
        "!pip install mysql-connector-python"
      ]
    },
    {
      "cell_type": "markdown",
      "source": [
        "Step 2 : Connect to SQLLite DB\n",
        "SQLite DB are stored as .db files , which you can upload to google collab , create a new one from the scratch"
      ],
      "metadata": {
        "id": "91A7v-kGOm91"
      }
    },
    {
      "cell_type": "code",
      "source": [
        "import sqlite3\n",
        "\n",
        "#Connect to SQLite (or create a new one)\n",
        "conn = sqlite3.connect('sample_database.db')\n",
        "cursor = conn.cursor()\n",
        "\n",
        "#create a sample table (If not exists) and insert data\n",
        "cursor.execute('''\n",
        "    CREATE TABLE IF NOT EXISTS employees (\n",
        "        id INTEGER PRIMARY KEY,\n",
        "        name TEXT,\n",
        "        department TEXT,\n",
        "        salary REAL\n",
        "    )\n",
        "''')\n",
        "\n",
        "#Insert somple sample data\n",
        "cursor.executemany('''\n",
        "INSERT INTO employees (id , name, department, salary)\n",
        "VALUES (?, ?, ?, ? )\n",
        "''', [\n",
        "    (6,'Ganesh', 'HR', 50000.0),\n",
        "    (7,'Srija', 'IT', 60000.0),\n",
        "])\n",
        "\n",
        "conn.commit() #save the changes"
      ],
      "metadata": {
        "id": "6WHOHFKuOt6y"
      },
      "execution_count": 2,
      "outputs": []
    },
    {
      "cell_type": "code",
      "source": [
        "#Query data\n",
        "cursor.execute('SELECT * FROM employees')\n",
        "#fetch all the rows from the executed query\n",
        "rows = cursor.fetchall()\n",
        "#print the rows\n",
        "for row in rows:\n",
        "    print(row)\n",
        "#Close the connections\n",
        "conn.close()"
      ],
      "metadata": {
        "colab": {
          "base_uri": "https://localhost:8080/"
        },
        "id": "QN14oj8kRtNq",
        "outputId": "b9439b99-ca4d-4ddd-8ed2-9890d4e3bc2d"
      },
      "execution_count": 3,
      "outputs": [
        {
          "output_type": "stream",
          "name": "stdout",
          "text": [
            "(6, 'Ganesh', 'HR', 50000.0)\n",
            "(7, 'Srija', 'IT', 60000.0)\n"
          ]
        }
      ]
    }
  ]
}